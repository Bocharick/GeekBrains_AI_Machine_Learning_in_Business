{
 "cells": [
  {
   "cell_type": "code",
   "execution_count": 1,
   "metadata": {},
   "outputs": [],
   "source": [
    "import warnings\n",
    "warnings.filterwarnings('ignore')\n",
    "import time\n",
    "import numpy as np\n",
    "\n",
    "from tensorflow.keras import backend as K\n",
    "from tensorflow.keras.callbacks import TensorBoard, ModelCheckpoint\n",
    "from tensorflow.keras.layers import Dense, Flatten, Activation, Dropout, Embedding, LSTM, SpatialDropout1D, Lambda, Bidirectional, \\\n",
    "    TimeDistributed, GRU, Input, concatenate\n",
    "from tensorflow.keras.losses import categorical_crossentropy\n",
    "from tensorflow.keras.models import Sequential, Model\n",
    "from tensorflow.keras.preprocessing import sequence\n",
    "from tensorflow.keras.utils import plot_model\n",
    "from sklearn.metrics import accuracy_score, classification_report, f1_score"
   ]
  },
  {
   "cell_type": "code",
   "execution_count": 2,
   "metadata": {},
   "outputs": [
    {
     "name": "stdout",
     "output_type": "stream",
     "text": [
      "Load data time: 0.260 seconds\n"
     ]
    }
   ],
   "source": [
    "st_time = time.time()\n",
    "X_train = np.load(\"X_train.npy\")\n",
    "Y_train = np.load(\"Y_train.npy\")\n",
    "X_val = np.load(\"X_val.npy\")\n",
    "Y_val = np.load(\"Y_val.npy\")\n",
    "print(\"Load data time: %.3f seconds\" % (time.time() - st_time), flush=True)"
   ]
  },
  {
   "cell_type": "code",
   "execution_count": 3,
   "metadata": {},
   "outputs": [
    {
     "data": {
      "text/plain": [
       "20"
      ]
     },
     "execution_count": 3,
     "metadata": {},
     "output_type": "execute_result"
    }
   ],
   "source": [
    "sequence_length = X_train.shape[1]\n",
    "sequence_length"
   ]
  },
  {
   "cell_type": "code",
   "execution_count": 4,
   "metadata": {},
   "outputs": [
    {
     "data": {
      "text/plain": [
       "320"
      ]
     },
     "execution_count": 4,
     "metadata": {},
     "output_type": "execute_result"
    }
   ],
   "source": [
    "w2v_length = X_train.shape[2]\n",
    "w2v_length"
   ]
  },
  {
   "cell_type": "code",
   "execution_count": 5,
   "metadata": {},
   "outputs": [
    {
     "data": {
      "text/plain": [
       "4000"
      ]
     },
     "execution_count": 5,
     "metadata": {},
     "output_type": "execute_result"
    }
   ],
   "source": [
    "output_vec_len = Y_train.shape[2]\n",
    "output_vec_len"
   ]
  },
  {
   "cell_type": "markdown",
   "metadata": {},
   "source": [
    "## Краткое описание данных:"
   ]
  },
  {
   "cell_type": "markdown",
   "metadata": {},
   "source": [
    "X_train, X_val - трехмерные матрицы, размерностью [*, 50, 320], где * это количество предложений, 50 - длина каждого предложения (сколько слов в предложении), 320 - вектор-слово Word2Vec.\n",
    "То есть был некий текст, в котором было очень много строк. Затем брались все слова из первой строки, если их было меньше чем 50, то после первой строки ставилось символ-слово обозначающее конец строки (\"/S\"), далее брались все слова второй строки и т.д. пока не набиралось 50 слов. Далее для этих слов брались 50 векторов, размерностью 320 каждый. После этого в тексте осуществлялся переход на новую строку и снова начинался набор 50 слов, и так далее пока не заполнилась матрица.\n",
    "То есть каждая запись в матрице это некоторое предложение, в котором, возможно, менялся контекст, при переходе на новую строку, но знак окончания предыдущего контекста вводился как доп слово."
   ]
  },
  {
   "cell_type": "markdown",
   "metadata": {},
   "source": [
    "Y_train, Y_val - трехмерные матрицы, размерностью [*, 50, 4000], где * это количество предложений (соответствует X_train, Y_train), 50 - длина каждого предложения, 4000 - one-hot вектор, где 3999 нулей и 1 единица на том индексе, который соответствует номеру кластера, которому принадлежит слово, следующее за входным."
   ]
  },
  {
   "cell_type": "markdown",
   "metadata": {},
   "source": [
    "Попробую простым языком:\n",
    "Был взят текст, очень большой на много Гигабайт, на одном языке, допустим английском. Далее в нем были найдены 200 тысяч самых популярных (по количеству раз встреченных) слов, из которых сформирован словарь.  \n",
    "Далее на этом тексте был натренирован Mikolov's Word2Vec. Это N-мерное (в нашем случае 320 мерное) представление слов, натренированное по большому тексту, где похожие или связанные слова находятся близко друг к другу, а совершенно несвязанные, соотвественно, далеко. Эта word2vec модель позволяет при обращении к ней для любого слова получать вектор для этого слова.  \n",
    "Отдельно нужно указать что есть два \"особых\" слова, это \"UNK\" и \"/S\".  \n",
    "\"UNK\" нужен тогда, когда встретится слово, которого не было в тексте для тренировки, либо число его вхождений было очень мало. Если не ошибаюсь этот вектор состоит целиком из чисел около нуля.  \n",
    "\"/S\" это вектор обозначающий конец контекста. Например конец предложения или абзаца/параграфа.  \n",
    "  \n",
    "Данные в X_train это как раз предложения, в которых взяты 50 слов подряд, а точнее векторы этих слов. Но так как само собой предложения могут быть и меньше 50 слов, берутся из текста слова подряд. Если встречается слово не из словаря - то вместо него подставляется вектор UNK, если конец предложения - подставляется вектор /S. И так пока не наберется 50 векторов. Из * таких предложений и формируется батч.  \n",
    "А вот Y_train очень связан с X_train таким образом:  \n",
    "если считать что слова в X_train были взяты в тексте с первого по пятидесятое [0:50], то слова в Y_train взяты со второго по пятьдесят первое [1:51]. Типо если мы даем модели первое слово, она должна предсказать второе слово. Но так как слов в словаре очень много (200 тысяч), то делать выходной вектор размерностью 200000 это очень затратно по памяти. Поэтому была применена хитрость, - все слова (точнее их вектора) из модели word2vec были предварительно откластеризованы, на 4000 кластеров. Таким образом каждое слово имеет номер кластера, которому оно принадлежит. И значит выходной вектор уже можно делать размерностью 4000, что значительно упрощает задачу, с точки зрения требуемых ресурсов. Таким образом наша модель должна получать на вход слово, и предсказывать номер кластера следующего слова. Модель рекуррентная, то есть должна запоминать историю даваемых ей на вход слов, для улучшения качества прогнозирования последующих слов."
   ]
  },
  {
   "cell_type": "code",
   "execution_count": null,
   "metadata": {},
   "outputs": [],
   "source": []
  },
  {
   "cell_type": "code",
   "execution_count": null,
   "metadata": {},
   "outputs": [],
   "source": []
  },
  {
   "cell_type": "code",
   "execution_count": 6,
   "metadata": {},
   "outputs": [
    {
     "name": "stdout",
     "output_type": "stream",
     "text": [
      "WARNING:tensorflow:From /home/bocharick/anaconda3/lib/python3.7/site-packages/tensorflow/python/ops/init_ops.py:1251: calling VarianceScaling.__init__ (from tensorflow.python.ops.init_ops) with dtype is deprecated and will be removed in a future version.\n",
      "Instructions for updating:\n",
      "Call initializer instance with the dtype argument instead of passing it to the constructor\n"
     ]
    }
   ],
   "source": [
    "X_input = Input(shape=(sequence_length, w2v_length), name=\"x_input\")\n",
    "gru_layer1 = GRU(512, return_sequences=True, dropout=0.25, recurrent_dropout=0.25)(X_input)\n",
    "gru_layer2 = GRU(512, return_sequences=True, dropout=0.25, recurrent_dropout=0.25)(gru_layer1)\n",
    "y_output = TimeDistributed(Dense(output_vec_len, activation=\"softmax\"), name=\"y_output\")(gru_layer2)"
   ]
  },
  {
   "cell_type": "code",
   "execution_count": 7,
   "metadata": {},
   "outputs": [],
   "source": [
    "model = Model(inputs=[X_input], outputs=[y_output])\n",
    "model.compile(loss={\"y_output\": categorical_crossentropy}, optimizer=\"adam\", metrics=[\"acc\"])"
   ]
  },
  {
   "cell_type": "code",
   "execution_count": 8,
   "metadata": {},
   "outputs": [
    {
     "name": "stdout",
     "output_type": "stream",
     "text": [
      "Model: \"model\"\n",
      "_________________________________________________________________\n",
      "Layer (type)                 Output Shape              Param #   \n",
      "=================================================================\n",
      "x_input (InputLayer)         [(None, 20, 320)]         0         \n",
      "_________________________________________________________________\n",
      "gru (GRU)                    (None, 20, 512)           1279488   \n",
      "_________________________________________________________________\n",
      "gru_1 (GRU)                  (None, 20, 512)           1574400   \n",
      "_________________________________________________________________\n",
      "y_output (TimeDistributed)   (None, 20, 4000)          2052000   \n",
      "=================================================================\n",
      "Total params: 4,905,888\n",
      "Trainable params: 4,905,888\n",
      "Non-trainable params: 0\n",
      "_________________________________________________________________\n",
      "None\n"
     ]
    }
   ],
   "source": [
    "print(model.summary())"
   ]
  },
  {
   "cell_type": "code",
   "execution_count": 9,
   "metadata": {},
   "outputs": [
    {
     "name": "stdout",
     "output_type": "stream",
     "text": [
      "Train on 5000 samples, validate on 500 samples\n",
      "WARNING:tensorflow:From /home/bocharick/anaconda3/lib/python3.7/site-packages/tensorflow/python/ops/math_grad.py:1250: add_dispatch_support.<locals>.wrapper (from tensorflow.python.ops.array_ops) is deprecated and will be removed in a future version.\n",
      "Instructions for updating:\n",
      "Use tf.where in 2.0, which has the same broadcast rule as np.where\n",
      "Epoch 1/100\n",
      "5000/5000 [==============================] - 3s 544us/sample - loss: 6.7502 - acc: 0.1647 - val_loss: 5.6450 - val_acc: 0.0669\n",
      "Epoch 2/100\n",
      "5000/5000 [==============================] - 2s 393us/sample - loss: 5.6173 - acc: 0.1501 - val_loss: 5.5660 - val_acc: 0.1824\n",
      "Epoch 3/100\n",
      "5000/5000 [==============================] - 2s 390us/sample - loss: 5.5281 - acc: 0.1875 - val_loss: 5.5174 - val_acc: 0.1824\n",
      "Epoch 4/100\n",
      "5000/5000 [==============================] - 2s 387us/sample - loss: 5.4861 - acc: 0.1875 - val_loss: 5.4824 - val_acc: 0.1824\n",
      "Epoch 5/100\n",
      "5000/5000 [==============================] - 2s 389us/sample - loss: 5.4480 - acc: 0.1876 - val_loss: 5.4444 - val_acc: 0.1824\n",
      "Epoch 6/100\n",
      "5000/5000 [==============================] - 2s 389us/sample - loss: 5.4035 - acc: 0.1878 - val_loss: 5.3991 - val_acc: 0.1828\n",
      "Epoch 7/100\n",
      "5000/5000 [==============================] - 2s 391us/sample - loss: 5.3544 - acc: 0.1879 - val_loss: 5.3509 - val_acc: 0.1829\n",
      "Epoch 8/100\n",
      "5000/5000 [==============================] - 2s 388us/sample - loss: 5.3011 - acc: 0.1885 - val_loss: 5.3000 - val_acc: 0.1834\n",
      "Epoch 9/100\n",
      "5000/5000 [==============================] - 2s 387us/sample - loss: 5.2467 - acc: 0.1901 - val_loss: 5.2517 - val_acc: 0.1852\n",
      "Epoch 10/100\n",
      "5000/5000 [==============================] - 2s 387us/sample - loss: 5.1922 - acc: 0.1914 - val_loss: 5.2031 - val_acc: 0.1869\n",
      "Epoch 11/100\n",
      "5000/5000 [==============================] - 2s 388us/sample - loss: 5.1370 - acc: 0.1940 - val_loss: 5.1625 - val_acc: 0.1939\n",
      "Epoch 12/100\n",
      "5000/5000 [==============================] - 2s 388us/sample - loss: 5.0890 - acc: 0.1996 - val_loss: 5.1240 - val_acc: 0.1995\n",
      "Epoch 13/100\n",
      "5000/5000 [==============================] - 2s 390us/sample - loss: 5.0434 - acc: 0.2050 - val_loss: 5.0974 - val_acc: 0.2060\n",
      "Epoch 14/100\n",
      "5000/5000 [==============================] - 2s 389us/sample - loss: 5.0019 - acc: 0.2101 - val_loss: 5.0689 - val_acc: 0.2071\n",
      "Epoch 15/100\n",
      "5000/5000 [==============================] - 2s 389us/sample - loss: 4.9625 - acc: 0.2122 - val_loss: 5.0405 - val_acc: 0.2078\n",
      "Epoch 16/100\n",
      "5000/5000 [==============================] - 2s 390us/sample - loss: 4.9245 - acc: 0.2140 - val_loss: 5.0186 - val_acc: 0.2114\n",
      "Epoch 17/100\n",
      "5000/5000 [==============================] - 2s 389us/sample - loss: 4.8886 - acc: 0.2165 - val_loss: 4.9951 - val_acc: 0.2119\n",
      "Epoch 18/100\n",
      "5000/5000 [==============================] - 2s 391us/sample - loss: 4.8514 - acc: 0.2184 - val_loss: 4.9763 - val_acc: 0.2152\n",
      "Epoch 19/100\n",
      "5000/5000 [==============================] - 2s 390us/sample - loss: 4.8145 - acc: 0.2207 - val_loss: 4.9563 - val_acc: 0.2186\n",
      "Epoch 20/100\n",
      "5000/5000 [==============================] - 2s 389us/sample - loss: 4.7797 - acc: 0.2229 - val_loss: 4.9410 - val_acc: 0.2196\n",
      "Epoch 21/100\n",
      "5000/5000 [==============================] - 2s 391us/sample - loss: 4.7431 - acc: 0.2249 - val_loss: 4.9287 - val_acc: 0.2180\n",
      "Epoch 22/100\n",
      "5000/5000 [==============================] - 2s 389us/sample - loss: 4.7093 - acc: 0.2263 - val_loss: 4.9109 - val_acc: 0.2195\n",
      "Epoch 23/100\n",
      "5000/5000 [==============================] - 2s 390us/sample - loss: 4.6781 - acc: 0.2277 - val_loss: 4.9047 - val_acc: 0.2222\n",
      "Epoch 24/100\n",
      "5000/5000 [==============================] - 2s 389us/sample - loss: 4.6446 - acc: 0.2294 - val_loss: 4.8907 - val_acc: 0.2220\n",
      "Epoch 25/100\n",
      "5000/5000 [==============================] - 2s 391us/sample - loss: 4.6129 - acc: 0.2316 - val_loss: 4.8849 - val_acc: 0.2251\n",
      "Epoch 26/100\n",
      "5000/5000 [==============================] - 2s 389us/sample - loss: 4.5814 - acc: 0.2325 - val_loss: 4.8769 - val_acc: 0.2241\n",
      "Epoch 27/100\n",
      "5000/5000 [==============================] - 2s 389us/sample - loss: 4.5508 - acc: 0.2342 - val_loss: 4.8734 - val_acc: 0.2252\n",
      "Epoch 28/100\n",
      "5000/5000 [==============================] - 2s 392us/sample - loss: 4.5191 - acc: 0.2353 - val_loss: 4.8672 - val_acc: 0.2244\n",
      "Epoch 29/100\n",
      "5000/5000 [==============================] - 2s 391us/sample - loss: 4.4887 - acc: 0.2371 - val_loss: 4.8600 - val_acc: 0.2268\n",
      "Epoch 30/100\n",
      "5000/5000 [==============================] - 2s 392us/sample - loss: 4.4606 - acc: 0.2378 - val_loss: 4.8574 - val_acc: 0.2278\n",
      "Epoch 31/100\n",
      "5000/5000 [==============================] - 2s 391us/sample - loss: 4.4301 - acc: 0.2398 - val_loss: 4.8563 - val_acc: 0.2265\n",
      "Epoch 32/100\n",
      "5000/5000 [==============================] - 2s 390us/sample - loss: 4.4009 - acc: 0.2412 - val_loss: 4.8533 - val_acc: 0.2270\n",
      "Epoch 33/100\n",
      "5000/5000 [==============================] - 2s 390us/sample - loss: 4.3733 - acc: 0.2426 - val_loss: 4.8545 - val_acc: 0.2275\n",
      "Epoch 34/100\n",
      "5000/5000 [==============================] - 2s 392us/sample - loss: 4.3428 - acc: 0.2442 - val_loss: 4.8519 - val_acc: 0.2265\n",
      "Epoch 35/100\n",
      "5000/5000 [==============================] - 2s 391us/sample - loss: 4.3150 - acc: 0.2463 - val_loss: 4.8570 - val_acc: 0.2233\n",
      "Epoch 36/100\n",
      "5000/5000 [==============================] - 2s 393us/sample - loss: 4.2855 - acc: 0.2465 - val_loss: 4.8531 - val_acc: 0.2283\n",
      "Epoch 37/100\n",
      "5000/5000 [==============================] - 2s 390us/sample - loss: 4.2546 - acc: 0.2501 - val_loss: 4.8577 - val_acc: 0.2279\n",
      "Epoch 38/100\n",
      "5000/5000 [==============================] - 2s 389us/sample - loss: 4.2284 - acc: 0.2519 - val_loss: 4.8616 - val_acc: 0.2238\n",
      "Epoch 39/100\n",
      "5000/5000 [==============================] - 2s 390us/sample - loss: 4.1991 - acc: 0.2541 - val_loss: 4.8587 - val_acc: 0.2245\n",
      "Epoch 40/100\n",
      "5000/5000 [==============================] - 2s 391us/sample - loss: 4.1711 - acc: 0.2542 - val_loss: 4.8666 - val_acc: 0.2246\n",
      "Epoch 41/100\n",
      "5000/5000 [==============================] - 2s 391us/sample - loss: 4.1442 - acc: 0.2559 - val_loss: 4.8684 - val_acc: 0.2243\n",
      "Epoch 42/100\n",
      "5000/5000 [==============================] - 2s 389us/sample - loss: 4.1134 - acc: 0.2603 - val_loss: 4.8729 - val_acc: 0.2240\n",
      "Epoch 43/100\n",
      "5000/5000 [==============================] - 2s 393us/sample - loss: 4.0899 - acc: 0.2599 - val_loss: 4.8758 - val_acc: 0.2213\n",
      "Epoch 44/100\n",
      "5000/5000 [==============================] - 2s 390us/sample - loss: 4.0629 - acc: 0.2623 - val_loss: 4.8908 - val_acc: 0.2237\n",
      "Epoch 45/100\n",
      "5000/5000 [==============================] - 2s 391us/sample - loss: 4.0315 - acc: 0.2643 - val_loss: 4.8926 - val_acc: 0.2254\n",
      "Epoch 46/100\n",
      "5000/5000 [==============================] - 2s 390us/sample - loss: 4.0035 - acc: 0.2664 - val_loss: 4.8960 - val_acc: 0.2206\n",
      "Epoch 47/100\n",
      "5000/5000 [==============================] - 2s 390us/sample - loss: 3.9774 - acc: 0.2669 - val_loss: 4.9001 - val_acc: 0.2196\n",
      "Epoch 48/100\n",
      "5000/5000 [==============================] - 2s 389us/sample - loss: 3.9512 - acc: 0.2701 - val_loss: 4.9131 - val_acc: 0.2171\n",
      "Epoch 49/100\n",
      "5000/5000 [==============================] - 2s 391us/sample - loss: 3.9217 - acc: 0.2716 - val_loss: 4.9196 - val_acc: 0.2182\n",
      "Epoch 50/100\n",
      "5000/5000 [==============================] - 2s 389us/sample - loss: 3.8911 - acc: 0.2746 - val_loss: 4.9262 - val_acc: 0.2188\n",
      "Epoch 51/100\n",
      "5000/5000 [==============================] - 2s 389us/sample - loss: 3.8677 - acc: 0.2762 - val_loss: 4.9352 - val_acc: 0.2148\n",
      "Epoch 52/100\n",
      "5000/5000 [==============================] - 2s 390us/sample - loss: 3.8393 - acc: 0.2786 - val_loss: 4.9428 - val_acc: 0.2154\n",
      "Epoch 53/100\n",
      "5000/5000 [==============================] - 2s 390us/sample - loss: 3.8085 - acc: 0.2812 - val_loss: 4.9523 - val_acc: 0.2200\n",
      "Epoch 54/100\n",
      "5000/5000 [==============================] - 2s 389us/sample - loss: 3.7834 - acc: 0.2840 - val_loss: 4.9638 - val_acc: 0.2167\n",
      "Epoch 55/100\n",
      "5000/5000 [==============================] - 2s 392us/sample - loss: 3.7560 - acc: 0.2867 - val_loss: 4.9733 - val_acc: 0.2200\n",
      "Epoch 56/100\n",
      "5000/5000 [==============================] - 2s 390us/sample - loss: 3.7284 - acc: 0.2889 - val_loss: 4.9836 - val_acc: 0.2181\n"
     ]
    },
    {
     "name": "stdout",
     "output_type": "stream",
     "text": [
      "Epoch 57/100\n",
      "5000/5000 [==============================] - 2s 389us/sample - loss: 3.6986 - acc: 0.2902 - val_loss: 4.9882 - val_acc: 0.2162\n",
      "Epoch 58/100\n",
      "5000/5000 [==============================] - 2s 391us/sample - loss: 3.6750 - acc: 0.2929 - val_loss: 4.9989 - val_acc: 0.2187\n",
      "Epoch 59/100\n",
      "5000/5000 [==============================] - 2s 389us/sample - loss: 3.6446 - acc: 0.2956 - val_loss: 5.0045 - val_acc: 0.2158\n",
      "Epoch 60/100\n",
      "5000/5000 [==============================] - 2s 389us/sample - loss: 3.6201 - acc: 0.2968 - val_loss: 5.0182 - val_acc: 0.2149\n",
      "Epoch 61/100\n",
      "5000/5000 [==============================] - 2s 390us/sample - loss: 3.5922 - acc: 0.3026 - val_loss: 5.0269 - val_acc: 0.2146\n",
      "Epoch 62/100\n",
      "5000/5000 [==============================] - 2s 390us/sample - loss: 3.5637 - acc: 0.3034 - val_loss: 5.0358 - val_acc: 0.2098\n",
      "Epoch 63/100\n",
      "5000/5000 [==============================] - 2s 388us/sample - loss: 3.5386 - acc: 0.3080 - val_loss: 5.0487 - val_acc: 0.2121\n",
      "Epoch 64/100\n",
      "5000/5000 [==============================] - 2s 389us/sample - loss: 3.5113 - acc: 0.3079 - val_loss: 5.0557 - val_acc: 0.2147\n",
      "Epoch 65/100\n",
      "5000/5000 [==============================] - 2s 388us/sample - loss: 3.4865 - acc: 0.3128 - val_loss: 5.0694 - val_acc: 0.2122\n",
      "Epoch 66/100\n",
      "5000/5000 [==============================] - 2s 389us/sample - loss: 3.4564 - acc: 0.3138 - val_loss: 5.0790 - val_acc: 0.2112\n",
      "Epoch 67/100\n",
      "5000/5000 [==============================] - 2s 388us/sample - loss: 3.4274 - acc: 0.3190 - val_loss: 5.0953 - val_acc: 0.2124\n",
      "Epoch 68/100\n",
      "5000/5000 [==============================] - 2s 390us/sample - loss: 3.4052 - acc: 0.3203 - val_loss: 5.0965 - val_acc: 0.2106\n",
      "Epoch 69/100\n",
      "5000/5000 [==============================] - 2s 389us/sample - loss: 3.3830 - acc: 0.3221 - val_loss: 5.1068 - val_acc: 0.2097\n",
      "Epoch 70/100\n",
      "5000/5000 [==============================] - 2s 389us/sample - loss: 3.3560 - acc: 0.3253 - val_loss: 5.1212 - val_acc: 0.2106\n",
      "Epoch 71/100\n",
      "5000/5000 [==============================] - 2s 388us/sample - loss: 3.3279 - acc: 0.3297 - val_loss: 5.1331 - val_acc: 0.2100\n",
      "Epoch 72/100\n",
      "5000/5000 [==============================] - 2s 390us/sample - loss: 3.3008 - acc: 0.3322 - val_loss: 5.1465 - val_acc: 0.2068\n",
      "Epoch 73/100\n",
      "5000/5000 [==============================] - 2s 389us/sample - loss: 3.2780 - acc: 0.3348 - val_loss: 5.1583 - val_acc: 0.2047\n",
      "Epoch 74/100\n",
      "5000/5000 [==============================] - 2s 389us/sample - loss: 3.2517 - acc: 0.3359 - val_loss: 5.1691 - val_acc: 0.2109\n",
      "Epoch 75/100\n",
      "5000/5000 [==============================] - 2s 390us/sample - loss: 3.2297 - acc: 0.3401 - val_loss: 5.1791 - val_acc: 0.2102\n",
      "Epoch 76/100\n",
      "5000/5000 [==============================] - 2s 388us/sample - loss: 3.1969 - acc: 0.3449 - val_loss: 5.1906 - val_acc: 0.2071\n",
      "Epoch 77/100\n",
      "5000/5000 [==============================] - 2s 388us/sample - loss: 3.1772 - acc: 0.3475 - val_loss: 5.1917 - val_acc: 0.2030\n",
      "Epoch 78/100\n",
      "5000/5000 [==============================] - 2s 389us/sample - loss: 3.1503 - acc: 0.3497 - val_loss: 5.2113 - val_acc: 0.2053\n",
      "Epoch 79/100\n",
      "5000/5000 [==============================] - 2s 389us/sample - loss: 3.1297 - acc: 0.3518 - val_loss: 5.2153 - val_acc: 0.2037\n",
      "Epoch 80/100\n",
      "5000/5000 [==============================] - 2s 389us/sample - loss: 3.1049 - acc: 0.3571 - val_loss: 5.2338 - val_acc: 0.2051\n",
      "Epoch 81/100\n",
      "5000/5000 [==============================] - 2s 389us/sample - loss: 3.0843 - acc: 0.3582 - val_loss: 5.2394 - val_acc: 0.2028\n",
      "Epoch 82/100\n",
      "5000/5000 [==============================] - 2s 389us/sample - loss: 3.0595 - acc: 0.3622 - val_loss: 5.2524 - val_acc: 0.2018\n",
      "Epoch 83/100\n",
      "5000/5000 [==============================] - 2s 388us/sample - loss: 3.0337 - acc: 0.3652 - val_loss: 5.2671 - val_acc: 0.2027\n",
      "Epoch 84/100\n",
      "5000/5000 [==============================] - 2s 389us/sample - loss: 3.0110 - acc: 0.3695 - val_loss: 5.2802 - val_acc: 0.2047\n",
      "Epoch 85/100\n",
      "5000/5000 [==============================] - 2s 388us/sample - loss: 2.9886 - acc: 0.3713 - val_loss: 5.2873 - val_acc: 0.2003\n",
      "Epoch 86/100\n",
      "5000/5000 [==============================] - 2s 389us/sample - loss: 2.9613 - acc: 0.3743 - val_loss: 5.2979 - val_acc: 0.2011\n",
      "Epoch 87/100\n",
      "5000/5000 [==============================] - 2s 389us/sample - loss: 2.9391 - acc: 0.3778 - val_loss: 5.3134 - val_acc: 0.2024\n",
      "Epoch 88/100\n",
      "5000/5000 [==============================] - 2s 390us/sample - loss: 2.9184 - acc: 0.3798 - val_loss: 5.3224 - val_acc: 0.1993\n",
      "Epoch 89/100\n",
      "5000/5000 [==============================] - 2s 389us/sample - loss: 2.8932 - acc: 0.3861 - val_loss: 5.3380 - val_acc: 0.2011\n",
      "Epoch 90/100\n",
      "5000/5000 [==============================] - 2s 388us/sample - loss: 2.8738 - acc: 0.3868 - val_loss: 5.3430 - val_acc: 0.1937\n",
      "Epoch 91/100\n",
      "5000/5000 [==============================] - 2s 388us/sample - loss: 2.8502 - acc: 0.3908 - val_loss: 5.3562 - val_acc: 0.2025\n",
      "Epoch 92/100\n",
      "5000/5000 [==============================] - 2s 388us/sample - loss: 2.8266 - acc: 0.3929 - val_loss: 5.3705 - val_acc: 0.1988\n",
      "Epoch 93/100\n",
      "5000/5000 [==============================] - 2s 388us/sample - loss: 2.8050 - acc: 0.3966 - val_loss: 5.3791 - val_acc: 0.2000\n",
      "Epoch 94/100\n",
      "5000/5000 [==============================] - 2s 390us/sample - loss: 2.7824 - acc: 0.3997 - val_loss: 5.3934 - val_acc: 0.1982\n",
      "Epoch 95/100\n",
      "5000/5000 [==============================] - 2s 392us/sample - loss: 2.7618 - acc: 0.4028 - val_loss: 5.4021 - val_acc: 0.1962\n",
      "Epoch 96/100\n",
      "5000/5000 [==============================] - 2s 389us/sample - loss: 2.7446 - acc: 0.4047 - val_loss: 5.4150 - val_acc: 0.1979\n",
      "Epoch 97/100\n",
      "5000/5000 [==============================] - 2s 389us/sample - loss: 2.7277 - acc: 0.4065 - val_loss: 5.4195 - val_acc: 0.1954\n",
      "Epoch 98/100\n",
      "5000/5000 [==============================] - 2s 389us/sample - loss: 2.7031 - acc: 0.4128 - val_loss: 5.4348 - val_acc: 0.1970\n",
      "Epoch 99/100\n",
      "5000/5000 [==============================] - 2s 389us/sample - loss: 2.6829 - acc: 0.4140 - val_loss: 5.4511 - val_acc: 0.1941\n",
      "Epoch 100/100\n",
      "5000/5000 [==============================] - 2s 389us/sample - loss: 2.6617 - acc: 0.4177 - val_loss: 5.4543 - val_acc: 0.1956\n"
     ]
    },
    {
     "data": {
      "text/plain": [
       "<tensorflow.python.keras.callbacks.History at 0x7f2331481550>"
      ]
     },
     "execution_count": 9,
     "metadata": {},
     "output_type": "execute_result"
    }
   ],
   "source": [
    "model.fit(X_train, Y_train, epochs=100, batch_size=500, verbose=1, validation_data=(X_val, Y_val))"
   ]
  },
  {
   "cell_type": "code",
   "execution_count": 10,
   "metadata": {},
   "outputs": [
    {
     "name": "stdout",
     "output_type": "stream",
     "text": [
      "(1, 20, 4000)\n"
     ]
    },
    {
     "data": {
      "text/plain": [
       "array([[[4.76523798e-09, 8.32621527e-09, 2.86427344e-08, ...,\n",
       "         5.84346038e-09, 5.52511701e-05, 1.21187168e-05],\n",
       "        [9.84920479e-10, 9.66474789e-10, 1.69531711e-09, ...,\n",
       "         8.25243929e-10, 7.96108725e-05, 5.61855404e-06],\n",
       "        [1.78859256e-08, 1.58294693e-08, 1.45389931e-08, ...,\n",
       "         1.21539712e-08, 3.45126115e-04, 5.79337211e-06],\n",
       "        ...,\n",
       "        [3.04404075e-08, 2.36916460e-08, 1.21197035e-08, ...,\n",
       "         2.56806185e-08, 1.14094355e-05, 9.96329982e-06],\n",
       "        [9.04242070e-10, 1.29022715e-09, 1.28306796e-10, ...,\n",
       "         1.84364068e-09, 2.07305584e-06, 1.56928493e-07],\n",
       "        [5.93193328e-10, 8.14227130e-10, 1.06404226e-10, ...,\n",
       "         8.08849765e-10, 6.38008828e-07, 7.18388549e-08]]], dtype=float32)"
      ]
     },
     "execution_count": 10,
     "metadata": {},
     "output_type": "execute_result"
    }
   ],
   "source": [
    "y_pred = model.predict(X_val[0,:,:].reshape([-1,20,320]))\n",
    "print(y_pred.shape)\n",
    "y_pred"
   ]
  },
  {
   "cell_type": "code",
   "execution_count": 11,
   "metadata": {},
   "outputs": [
    {
     "data": {
      "text/plain": [
       "array([[1793,  375,  375, 1484, 1484, 3361, 3361, 2745, 3361, 1971, 1484,\n",
       "        1971,  950, 1971, 1971, 3361, 2069,  572, 1484, 1484]])"
      ]
     },
     "execution_count": 11,
     "metadata": {},
     "output_type": "execute_result"
    }
   ],
   "source": [
    "y_pred.argmax(axis=2)"
   ]
  },
  {
   "cell_type": "code",
   "execution_count": null,
   "metadata": {},
   "outputs": [],
   "source": []
  },
  {
   "cell_type": "code",
   "execution_count": null,
   "metadata": {},
   "outputs": [],
   "source": []
  },
  {
   "cell_type": "code",
   "execution_count": null,
   "metadata": {},
   "outputs": [],
   "source": []
  },
  {
   "cell_type": "code",
   "execution_count": 12,
   "metadata": {},
   "outputs": [
    {
     "name": "stdout",
     "output_type": "stream",
     "text": [
      "(1, 20, 4000)\n"
     ]
    },
    {
     "data": {
      "text/plain": [
       "array([[[0., 0., 0., ..., 0., 0., 0.],\n",
       "        [0., 0., 0., ..., 0., 0., 0.],\n",
       "        [0., 0., 0., ..., 0., 0., 0.],\n",
       "        ...,\n",
       "        [0., 0., 0., ..., 0., 0., 0.],\n",
       "        [0., 0., 0., ..., 0., 0., 0.],\n",
       "        [0., 0., 0., ..., 0., 0., 0.]]], dtype=float32)"
      ]
     },
     "execution_count": 12,
     "metadata": {},
     "output_type": "execute_result"
    }
   ],
   "source": [
    "y_true = Y_val[0].reshape([-1,20,4000])\n",
    "print(y_true.shape)\n",
    "y_true"
   ]
  },
  {
   "cell_type": "code",
   "execution_count": 13,
   "metadata": {},
   "outputs": [
    {
     "data": {
      "text/plain": [
       "array([[1793, 3707, 2249,  677,   13, 3620,  696,  611, 2365, 1484,    3,\n",
       "         261, 2210, 3361, 2978, 1971,  550,  572, 3791, 3361]])"
      ]
     },
     "execution_count": 13,
     "metadata": {},
     "output_type": "execute_result"
    }
   ],
   "source": [
    "y_true.argmax(axis=2)"
   ]
  },
  {
   "cell_type": "code",
   "execution_count": null,
   "metadata": {},
   "outputs": [],
   "source": []
  },
  {
   "cell_type": "code",
   "execution_count": null,
   "metadata": {},
   "outputs": [],
   "source": []
  },
  {
   "cell_type": "markdown",
   "metadata": {},
   "source": [
    "То есть сейчас у меня получилась такая архитектура модели, что мне нужно давать на вход фиксированное количество слов (в данном случае 20), и на выходе я получу 20 предсказаний.\n",
    "А мне хотелось бы получить такую модель, которой я бы мог скармливать по одному слову, получать одно предсказание. далее скармливать второе слово, и при этом модель помнила, что перед этим у нее было первое слово и снова давала предсказание. Затем скармливал третье слово, а модель помнит, что в истории были предыдущие два слова и так далее.\n",
    "\n",
    "И дополнительно еще, чтобы можно было реализовать ветвление. То есть предсказав для, например, пяти слов, я хочу попробовать два разных шестых слова, то есть как-то зафиксировать состояние модели, попробовать одно шестое слово, попробовать другое шестое слово, но чтобы в обоих случаях история была одинаковая, опирающаяся на первые пять слов.\n",
    "\n",
    "И также хотелось бы понять, как для модели, которой буду скармливать по одному слову, указать сколько слов назад она будет помнить.\n"
   ]
  },
  {
   "cell_type": "code",
   "execution_count": null,
   "metadata": {},
   "outputs": [],
   "source": []
  },
  {
   "cell_type": "code",
   "execution_count": null,
   "metadata": {},
   "outputs": [],
   "source": []
  },
  {
   "cell_type": "code",
   "execution_count": null,
   "metadata": {},
   "outputs": [],
   "source": []
  },
  {
   "cell_type": "code",
   "execution_count": null,
   "metadata": {},
   "outputs": [],
   "source": []
  },
  {
   "cell_type": "code",
   "execution_count": null,
   "metadata": {},
   "outputs": [],
   "source": []
  },
  {
   "cell_type": "code",
   "execution_count": null,
   "metadata": {},
   "outputs": [],
   "source": []
  }
 ],
 "metadata": {
  "kernelspec": {
   "display_name": "Python 3",
   "language": "python",
   "name": "python3"
  },
  "language_info": {
   "codemirror_mode": {
    "name": "ipython",
    "version": 3
   },
   "file_extension": ".py",
   "mimetype": "text/x-python",
   "name": "python",
   "nbconvert_exporter": "python",
   "pygments_lexer": "ipython3",
   "version": "3.7.4"
  }
 },
 "nbformat": 4,
 "nbformat_minor": 2
}
